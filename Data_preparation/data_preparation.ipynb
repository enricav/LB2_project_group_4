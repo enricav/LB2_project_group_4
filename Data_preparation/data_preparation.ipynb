{
  "nbformat": 4,
  "nbformat_minor": 0,
  "metadata": {
    "colab": {
      "provenance": []
    },
    "kernelspec": {
      "name": "python3",
      "display_name": "Python 3"
    },
    "language_info": {
      "name": "python"
    }
  },
  "cells": [
    {
      "cell_type": "markdown",
      "source": [
        "#**DATA PREPARATION**"
      ],
      "metadata": {
        "id": "Tj3CfBJv67ne"
      }
    },
    {
      "cell_type": "markdown",
      "source": [
        "#### Bash commands for MMseqs2\n",
        "##### These commands are needed to copy the dataset files on the VM and then run the algorithm on those files"
      ],
      "metadata": {
        "id": "QnshINFy7GC7"
      }
    },
    {
      "cell_type": "code",
      "execution_count": null,
      "metadata": {
        "id": "dJflqNtI6VAM"
      },
      "outputs": [],
      "source": [
        "import subprocess\n",
        "import shlex\n",
        "\n",
        "#copying files in the VM\n",
        "subprocess.run(shlex.split(\"scp -i um14_id_rsa /path/to/LB2_project_group_4/Data_collection/* um14@m14.lsb.biocomp.unibo.it:/home/um14/data\"), stdout=subprocess.DEVNULL)\n",
        "#VM connection\n",
        "subprocess.run(shlex.split(\"lab2vm\"), stdout=subprocess.DEVNULL)\n",
        "#MMseq2 execution command\n",
        "subprocess.run(shlex.split(\"mmseqs easy-cluster input.fa cluster-results tmp --min-seq-id 0.3 \\ -c 0.4 --cov-mode 0 --cluster-mode 1\"), stdout=subprocess.DEVNULL)\n",
        "\n"
      ]
    },
    {
      "cell_type": "markdown",
      "source": [
        "#### Retaining only non-redundant proteins in the datasets\n",
        "##### MMseqs2 identifies the proteins that must be retained, called representatives\n",
        "##### In this section we filter the original dataset retaining only those ones"
      ],
      "metadata": {
        "id": "OR7qulbc9meV"
      }
    },
    {
      "cell_type": "code",
      "source": [
        "def representative_proteins(rep_fasta,sp_tsv,output_tsv,type):\n",
        "  reference = []\n",
        "  filtered = 0\n",
        "  rep = 0\n",
        "  with open (rep_fasta,\"r\") as input:\n",
        "    for line in input:\n",
        "      if line[0] == \">\":\n",
        "        rep += 1\n",
        "        reference.append(line.split()[0][1:]) #storing only Uniprot IDs\n",
        "        #print(line.split()[0][1:])\n",
        "  with open(output_tsv,\"w\") as output:\n",
        "    if type==\"positive\":\n",
        "      print(\"protein_id\", \"organism_name\", \"kingdom\", \"protein_length\", \"pos_cleavage_site\",sep=\"\\t\", file=output)\n",
        "    elif type==\"negative\":\n",
        "      print(\"protein_id\", \"organism_name\", \"kingdom\", \"protein_length\", \"TM_helix_presence\",sep=\"\\t\", file=output)\n",
        "    with open(sp_tsv,\"r\") as input:\n",
        "      for line in input:\n",
        "        if line.split()[0] in reference:\n",
        "          filtered += 1 #comparing IDs\n",
        "          output.write(line)\n",
        "  print(\"Filtered dataset\",filtered)\n",
        "  print(\"Representatives count\",rep)\n",
        "print(\"Positive\")\n",
        "representative_proteins(\"/content/cluster-results_positive_rep_seq.fasta\",\"/content/sp_positive.tsv\",\"/content/sp_positive_rep.tsv\",\"positive\")\n",
        "print()\n",
        "print(\"Negative\")\n",
        "representative_proteins(\"/content/cluster-results_negative_rep_seq.fasta\",\"/content/sp_negative.tsv\",\"/content/sp_negative_rep.tsv\",\"negative\")"
      ],
      "metadata": {
        "id": "yhXFVqU79myy",
        "colab": {
          "base_uri": "https://localhost:8080/"
        },
        "outputId": "eed556a0-9bed-464a-e283-712642778ff5"
      },
      "execution_count": 1,
      "outputs": [
        {
          "output_type": "stream",
          "name": "stdout",
          "text": [
            "Positive\n",
            "Filtered dataset 1093\n",
            "Representatives count 1093\n",
            "\n",
            "Negative\n",
            "Filtered dataset 8934\n",
            "Representatives count 8934\n"
          ]
        }
      ]
    },
    {
      "cell_type": "markdown",
      "source": [
        "#### Data splitting into training and benchmarking\n",
        "##### These commands are used to split the filtered data into training and test sets following the proportion 80-20\n",
        "##### The training set is further split into 5 cross validation sets"
      ],
      "metadata": {
        "id": "_lM4H1aB9Z4t"
      }
    },
    {
      "cell_type": "code",
      "source": [
        "import pandas as pd\n",
        "\n",
        "positive = pd.read_csv(\"/content/sp_positive_rep.tsv\", sep=\"\\t\")\n",
        "negative = pd.read_csv(\"/content/sp_negative_rep.tsv\", sep=\"\\t\")\n",
        "\n",
        "positive_file = \"positive_set.tsv\"\n",
        "negative_file = \"negative_set.tsv\"\n",
        "\n",
        "def training_test_split(input, output_file,type):\n",
        "  shuffled_data = input.sample(frac=1, random_state=42).reset_index(drop=True)\n",
        "  nr_trainig = round((len(shuffled_data)-1)*80/100)\n",
        "  nr_cv = round(nr_trainig/5)\n",
        "  with open(output_file, \"w\") as f1:\n",
        "    counter_pos=0\n",
        "    if type==\"positive\":\n",
        "        print(\"protein_id\", \"organism_name\", \"kingdom\", \"protein_length\", \"pos_cleavage_site\",\"class\",\"cv_subset\",sep=\"\\t\", file=f1)\n",
        "    elif type==\"negative\":\n",
        "      print(\"protein_id\", \"organism_name\", \"kingdom\", \"protein_length\", \"TM_helix_presence\",\"class\",\"cv_subset\",sep=\"\\t\", file=f1)\n",
        "    for _, row in shuffled_data.iterrows():\n",
        "      line = row.tolist()\n",
        "      if counter_pos <= nr_trainig:\n",
        "        line.append(\"Training\")\n",
        "        counter_pos += 1\n",
        "        if counter_pos <= nr_cv:\n",
        "          line.append(\"1\")\n",
        "          print(*line, sep=\"\\t\", file=f1)\n",
        "        elif counter_pos <= (nr_cv*2):\n",
        "          line.append(\"2\")\n",
        "          print(*line, sep=\"\\t\", file=f1)\n",
        "        elif counter_pos <= (nr_cv*3):\n",
        "          line.append(\"3\")\n",
        "          print(*line, sep=\"\\t\", file=f1)\n",
        "        elif counter_pos <= (nr_cv*4):\n",
        "          line.append(\"4\")\n",
        "          print(*line, sep=\"\\t\", file=f1)\n",
        "        else:\n",
        "          line.append(\"5\")\n",
        "          print(*line, sep=\"\\t\", file=f1)\n",
        "        counter2=counter_pos\n",
        "      else:\n",
        "        line.append(\"Test\")\n",
        "        line.append(\"0\")\n",
        "        print(*line, sep=\"\\t\", file=f1)\n",
        "        counter_pos += 1\n",
        "    print(\"Completed for\",type)\n",
        "  return\n",
        "\n",
        "training_test_split(positive, positive_file,\"positive\")\n",
        "training_test_split(negative, negative_file,\"negative\")"
      ],
      "metadata": {
        "id": "yuWtrDpkDiYb",
        "colab": {
          "base_uri": "https://localhost:8080/"
        },
        "outputId": "ae3a5deb-6cef-400e-cf82-3ff210c61753"
      },
      "execution_count": 2,
      "outputs": [
        {
          "output_type": "stream",
          "name": "stdout",
          "text": [
            "Completed for positive\n",
            "Completed for negative\n"
          ]
        }
      ]
    },
    {
      "cell_type": "markdown",
      "source": [
        "#### Printing results\n",
        "##### The following function is needed to print the results and check that the requested proportions among training and test are respected"
      ],
      "metadata": {
        "id": "0oShWvi4yJja"
      }
    },
    {
      "cell_type": "code",
      "source": [
        "def printing_info(input_file):\n",
        "  with open (input_file,\"r\") as input:\n",
        "    count_training=0\n",
        "    count_test=0\n",
        "    count_cv1=0\n",
        "    count_cv2=0\n",
        "    count_cv3=0\n",
        "    count_cv4=0\n",
        "    count_cv5=0\n",
        "    for line in input:\n",
        "      if line[-2:-1]==\"1\":\n",
        "        count_cv1+=1\n",
        "      elif line[-2:-1]==\"2\":\n",
        "        count_cv2+=1\n",
        "      elif line[-2:-1]==\"3\":\n",
        "        count_cv3+=1\n",
        "      elif line[-2:-1]==\"4\":\n",
        "        count_cv4+=1\n",
        "      elif line[-2:-1]==\"5\":\n",
        "        count_cv5+=1\n",
        "      elif line[-2:-1]==\"0\":\n",
        "        count_test+=1\n",
        "    count_training=count_cv1+count_cv2+count_cv3+count_cv4+count_cv5\n",
        "    print(\"Total data: \",count_training+count_test)\n",
        "    print(\"Total training data: \",count_training)\n",
        "    print(\"CV set 1: \",count_cv1)\n",
        "    print(\"CV set 2: \",count_cv2)\n",
        "    print(\"CV set 3: \",count_cv3)\n",
        "    print(\"CV set 4: \",count_cv4)\n",
        "    print(\"CV set 5: \",count_cv5)\n",
        "    print(\"Total test data: \",count_test)\n",
        "\n",
        "print(\"Positive data\")\n",
        "printing_info(\"/content/positive_set.tsv\")\n",
        "print()\n",
        "print(\"Negative data\")\n",
        "printing_info(\"/content/negative_set.tsv\")"
      ],
      "metadata": {
        "colab": {
          "base_uri": "https://localhost:8080/"
        },
        "id": "AKU7KkruyJy6",
        "outputId": "0a3a1d22-f0be-46cb-895f-a314b384724e"
      },
      "execution_count": 3,
      "outputs": [
        {
          "output_type": "stream",
          "name": "stdout",
          "text": [
            "Positive data\n",
            "Total data:  1093\n",
            "Total training data:  875\n",
            "CV set 1:  175\n",
            "CV set 2:  175\n",
            "CV set 3:  175\n",
            "CV set 4:  175\n",
            "CV set 5:  175\n",
            "Total test data:  218\n",
            "\n",
            "Negative data\n",
            "Total data:  8934\n",
            "Total training data:  7147\n",
            "CV set 1:  1429\n",
            "CV set 2:  1429\n",
            "CV set 3:  1429\n",
            "CV set 4:  1429\n",
            "CV set 5:  1431\n",
            "Total test data:  1787\n"
          ]
        }
      ]
    }
  ]
}